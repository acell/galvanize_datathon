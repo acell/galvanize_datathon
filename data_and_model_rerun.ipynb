{
 "cells": [
  {
   "cell_type": "code",
   "execution_count": 1,
   "id": "middle-foster",
   "metadata": {},
   "outputs": [],
   "source": [
    "import pandas as pd\n",
    "import numpy as np\n",
    "import json\n",
    "import requests\n",
    "import zipfile\n",
    "import io\n",
    "import re\n",
    "import matplotlib.pyplot as plt\n",
    "import seaborn as sns\n",
    "import warnings\n",
    "import random\n",
    "\n",
    "from sklearn.linear_model import *\n",
    "from sklearn.ensemble import RandomForestClassifier\n",
    "from sklearn.model_selection import KFold\n",
    "from sklearn import metrics\n",
    "from sklearn.preprocessing import OneHotEncoder\n",
    "\n",
    "warnings.filterwarnings('ignore')"
   ]
  },
  {
   "cell_type": "code",
   "execution_count": 2,
   "id": "intellectual-despite",
   "metadata": {},
   "outputs": [],
   "source": [
    "sns.set_style('whitegrid')"
   ]
  },
  {
   "cell_type": "code",
   "execution_count": 3,
   "id": "simplified-helen",
   "metadata": {},
   "outputs": [],
   "source": [
    "def extract_zip_files(zip_url, directory):\n",
    "    request = requests.get(zip_url)\n",
    "    zip_content = zipfile.ZipFile(io.BytesIO(request.content))\n",
    "    zip_content.extractall(f\"data/{directory}/\")"
   ]
  },
  {
   "cell_type": "code",
   "execution_count": 4,
   "id": "sonic-arbor",
   "metadata": {},
   "outputs": [],
   "source": [
    "def download_csvs():\n",
    "    for year in range(2009, 2022):\n",
    "        for month in range(1, 13):\n",
    "            year = str(year)\n",
    "            month = str(month)\n",
    "\n",
    "            if len(month) == 1:\n",
    "                month = '0' + month\n",
    "                \n",
    "            if pd.Timestamp(year + '-' + month) > pd.Timestamp.now():\n",
    "                return\n",
    "\n",
    "            scheduled_outage_zip_url = f\"http://mis.nyiso.com/public/csv/schedlineoutages/{year}{month}01SCLineOutages_csv.zip\"\n",
    "            real_time_outage_zip_url = f\"http://mis.nyiso.com/public/csv/realtimelineoutages/{year}{month}01RTLineOutages_csv.zip\"\n",
    "            load_forecast_zip_url = f\"http://mis.nyiso.com/public/csv/isolf/{year}{month}01isolf_csv.zip\"\n",
    "            load_real_time_zip_url = f\"http://mis.nyiso.com/public/csv/pal/{year}{month}01pal_csv.zip\"\n",
    "            weather_zip_url = f\"http://mis.nyiso.com/public/csv/lfweather/{year}{month}01lfweather_csv.zip\"\n",
    "\n",
    "            directories = ['scheduled_outages', 'real_time_outages', 'forecast_load', 'real_time_load', 'weather']\n",
    "            urls = [scheduled_outage_zip_url, real_time_outage_zip_url, load_forecast_zip_url, \n",
    "                    load_real_time_zip_url, weather_zip_url]\n",
    "\n",
    "            for n in range(len(directories)):\n",
    "                extract_zip_files(urls[n], directories[n])\n",
    "        "
   ]
  },
  {
   "cell_type": "code",
   "execution_count": 5,
   "id": "ruled-cemetery",
   "metadata": {},
   "outputs": [],
   "source": [
    "def create_dfs(directories):\n",
    "    dfs = {}\n",
    "    scheduled_outage_csv = \"SCLineOutages.csv\"\n",
    "    real_time_outage_csv = \"RTLineOutages.csv\"\n",
    "    forecast_load_csv = \"isolf.csv\"\n",
    "    real_time_load_csv = \"pal.csv\"\n",
    "    weather_csv = \"lfweather.csv\"\n",
    "    csvs = [scheduled_outage_csv, real_time_outage_csv, forecast_load_csv, real_time_load_csv, weather_csv]\n",
    "\n",
    "    for n in range(len(directories)):\n",
    "        directory = directories[n]\n",
    "        df_days = []\n",
    "        \n",
    "        for year in range(2009, 2022):\n",
    "            for month in range(1, 13):\n",
    "                for day in range(1, 32):\n",
    "                    year = str(year)\n",
    "                    month = str(month)\n",
    "                    day = str(day)\n",
    "\n",
    "                    if len(month) == 1:\n",
    "                        month = '0' + month\n",
    "\n",
    "                    if len(day) == 1:\n",
    "                        day = '0' + day\n",
    "\n",
    "                    try:\n",
    "                        file = pd.read_csv(f\"data/{directory}/{year}{month}{day}{csvs[n]}\")\n",
    "                        df_days.append(file)\n",
    "                    except:\n",
    "                        pass\n",
    "\n",
    "        df_days = pd.concat(df_days, ignore_index=True)\n",
    "        dfs[directory] = df_days\n",
    "    return dfs\n",
    "            "
   ]
  },
  {
   "cell_type": "code",
   "execution_count": 12,
   "id": "concrete-direction",
   "metadata": {},
   "outputs": [],
   "source": [
    "download_csvs()"
   ]
  },
  {
   "cell_type": "code",
   "execution_count": 13,
   "id": "recent-leave",
   "metadata": {},
   "outputs": [],
   "source": [
    "df_dict = create_dfs(directories=['scheduled_outages', 'real_time_outages', 'forecast_load', 'real_time_load', 'weather'])"
   ]
  },
  {
   "cell_type": "code",
   "execution_count": 14,
   "id": "resident-sequence",
   "metadata": {},
   "outputs": [],
   "source": [
    "df_dict['scheduled_outages'].to_csv('data/nyiso_scheduled_outages.csv')\n",
    "df_dict['real_time_outages'].to_csv('data/nyiso_real_time_outages.csv')\n",
    "df_dict['forecast_load'].to_csv('data/nyiso_forecast_load.csv')\n",
    "df_dict['real_time_load'].to_csv('data/nyiso_real_time_load.csv')\n",
    "df_dict['weather'].to_csv('data/nyiso_weather.csv')"
   ]
  },
  {
   "cell_type": "code",
   "execution_count": 15,
   "id": "expected-overall",
   "metadata": {},
   "outputs": [],
   "source": [
    "scheduled_outages_df = df_dict['scheduled_outages'].copy(deep=True)\n",
    "real_time_outages_df = df_dict['real_time_outages'].copy(deep=True)\n",
    "forecast_load_df = df_dict['forecast_load'].copy(deep=True)\n",
    "real_time_load_df = df_dict['real_time_load'].copy(deep=True)\n",
    "weather_df = df_dict['weather'].copy(deep=True)"
   ]
  },
  {
   "cell_type": "code",
   "execution_count": 16,
   "id": "latter-sullivan",
   "metadata": {},
   "outputs": [],
   "source": [
    "real_time_load_df['Time Stamp'] = pd.to_datetime(real_time_load_df['Time Stamp'])"
   ]
  },
  {
   "cell_type": "code",
   "execution_count": 17,
   "id": "dangerous-tennessee",
   "metadata": {},
   "outputs": [],
   "source": [
    "capitl_load = real_time_load_df[real_time_load_df['Name'] == 'CAPITL']\n",
    "centrl_load = real_time_load_df[real_time_load_df['Name'] == 'CENTRL']\n",
    "dunwod_load = real_time_load_df[real_time_load_df['Name'] == 'DUNWOD']\n",
    "genese_load = real_time_load_df[real_time_load_df['Name'] == 'GENESE']\n",
    "hud_vl_load = real_time_load_df[real_time_load_df['Name'] == 'HUD VL']\n",
    "longil_load = real_time_load_df[real_time_load_df['Name'] == 'LONGIL']\n",
    "mhk_vl_load = real_time_load_df[real_time_load_df['Name'] == 'MHK VL']\n",
    "millwd_load = real_time_load_df[real_time_load_df['Name'] == 'MILLWD']\n",
    "nyc_load = real_time_load_df[real_time_load_df['Name'] == 'N.Y.C.']\n",
    "north_load = real_time_load_df[real_time_load_df['Name'] == 'NORTH']\n",
    "west_load = real_time_load_df[real_time_load_df['Name'] == 'WEST']"
   ]
  },
  {
   "cell_type": "code",
   "execution_count": 18,
   "id": "automotive-transmission",
   "metadata": {},
   "outputs": [],
   "source": [
    "load_dfs = [capitl_load.copy(deep=True), centrl_load.copy(deep=True), dunwod_load.copy(deep=True), \n",
    "            genese_load.copy(deep=True), hud_vl_load.copy(deep=True), longil_load.copy(deep=True),\n",
    "            mhk_vl_load.copy(deep=True), millwd_load.copy(deep=True), nyc_load.copy(deep=True), \n",
    "            north_load.copy(deep=True), west_load.copy(deep=True)]"
   ]
  },
  {
   "cell_type": "code",
   "execution_count": 19,
   "id": "headed-sending",
   "metadata": {},
   "outputs": [],
   "source": [
    "for df in load_dfs:\n",
    "    df['hour_rolling_avg'] = df['Load'].rolling(12).mean()\n",
    "    df['hour_rolling_min'] = df['Load'].rolling(12).min()\n",
    "    df['hour_rolling_max'] = df['Load'].rolling(12).max()\n",
    "    df['hour_rolling_std'] = df['Load'].rolling(12).std()\n",
    "    \n",
    "    df['three_hour_rolling_avg'] = df['Load'].rolling(36).mean()\n",
    "    df['three_hour_rolling_min'] = df['Load'].rolling(36).min()\n",
    "    df['three_hour_rolling_max'] = df['Load'].rolling(36).max()\n",
    "    df['three_hour_rolling_std'] = df['Load'].rolling(36).std()\n",
    "    \n",
    "    df['six_hour_rolling_avg'] = df['Load'].rolling(72).mean()\n",
    "    df['six_hour_rolling_max'] = df['Load'].rolling(72).max()\n",
    "    df['six_hour_rolling_std'] = df['Load'].rolling(72).std()\n",
    "    \n",
    "    df['twelve_hour_rolling_avg'] = df['Load'].rolling(144).mean()\n",
    "    df['twelve_hour_rolling_max'] = df['Load'].rolling(144).max()\n",
    "    df['twelve_hour_rolling_std'] = df['Load'].rolling(144).std()"
   ]
  },
  {
   "cell_type": "code",
   "execution_count": 20,
   "id": "pressing-andrews",
   "metadata": {},
   "outputs": [
    {
     "data": {
      "text/html": [
       "<div>\n",
       "<style scoped>\n",
       "    .dataframe tbody tr th:only-of-type {\n",
       "        vertical-align: middle;\n",
       "    }\n",
       "\n",
       "    .dataframe tbody tr th {\n",
       "        vertical-align: top;\n",
       "    }\n",
       "\n",
       "    .dataframe thead th {\n",
       "        text-align: right;\n",
       "    }\n",
       "</style>\n",
       "<table border=\"1\" class=\"dataframe\">\n",
       "  <thead>\n",
       "    <tr style=\"text-align: right;\">\n",
       "      <th></th>\n",
       "      <th>Time Stamp</th>\n",
       "      <th>Capitl</th>\n",
       "      <th>Centrl</th>\n",
       "      <th>Dunwod</th>\n",
       "      <th>Genese</th>\n",
       "      <th>Hud Vl</th>\n",
       "      <th>Longil</th>\n",
       "      <th>Mhk Vl</th>\n",
       "      <th>Millwd</th>\n",
       "      <th>N.Y.C.</th>\n",
       "      <th>North</th>\n",
       "      <th>West</th>\n",
       "      <th>NYISO</th>\n",
       "    </tr>\n",
       "  </thead>\n",
       "  <tbody>\n",
       "    <tr>\n",
       "      <th>0</th>\n",
       "      <td>01/01/2009 00:00</td>\n",
       "      <td>1124</td>\n",
       "      <td>1591</td>\n",
       "      <td>594</td>\n",
       "      <td>1003</td>\n",
       "      <td>1164</td>\n",
       "      <td>2464</td>\n",
       "      <td>758</td>\n",
       "      <td>347</td>\n",
       "      <td>5616</td>\n",
       "      <td>796</td>\n",
       "      <td>1589</td>\n",
       "      <td>17046</td>\n",
       "    </tr>\n",
       "    <tr>\n",
       "      <th>1</th>\n",
       "      <td>01/01/2009 01:00</td>\n",
       "      <td>1092</td>\n",
       "      <td>1567</td>\n",
       "      <td>574</td>\n",
       "      <td>954</td>\n",
       "      <td>1122</td>\n",
       "      <td>2337</td>\n",
       "      <td>727</td>\n",
       "      <td>327</td>\n",
       "      <td>5474</td>\n",
       "      <td>797</td>\n",
       "      <td>1535</td>\n",
       "      <td>16506</td>\n",
       "    </tr>\n",
       "    <tr>\n",
       "      <th>2</th>\n",
       "      <td>01/01/2009 02:00</td>\n",
       "      <td>1060</td>\n",
       "      <td>1529</td>\n",
       "      <td>547</td>\n",
       "      <td>913</td>\n",
       "      <td>1084</td>\n",
       "      <td>2218</td>\n",
       "      <td>701</td>\n",
       "      <td>309</td>\n",
       "      <td>5279</td>\n",
       "      <td>799</td>\n",
       "      <td>1482</td>\n",
       "      <td>15921</td>\n",
       "    </tr>\n",
       "    <tr>\n",
       "      <th>3</th>\n",
       "      <td>01/01/2009 03:00</td>\n",
       "      <td>1046</td>\n",
       "      <td>1508</td>\n",
       "      <td>530</td>\n",
       "      <td>892</td>\n",
       "      <td>1064</td>\n",
       "      <td>2137</td>\n",
       "      <td>685</td>\n",
       "      <td>306</td>\n",
       "      <td>5107</td>\n",
       "      <td>799</td>\n",
       "      <td>1455</td>\n",
       "      <td>15529</td>\n",
       "    </tr>\n",
       "    <tr>\n",
       "      <th>4</th>\n",
       "      <td>01/01/2009 04:00</td>\n",
       "      <td>1042</td>\n",
       "      <td>1508</td>\n",
       "      <td>522</td>\n",
       "      <td>890</td>\n",
       "      <td>1062</td>\n",
       "      <td>2109</td>\n",
       "      <td>684</td>\n",
       "      <td>304</td>\n",
       "      <td>5009</td>\n",
       "      <td>802</td>\n",
       "      <td>1451</td>\n",
       "      <td>15383</td>\n",
       "    </tr>\n",
       "  </tbody>\n",
       "</table>\n",
       "</div>"
      ],
      "text/plain": [
       "         Time Stamp  Capitl  Centrl  Dunwod  Genese  Hud Vl  Longil  Mhk Vl  \\\n",
       "0  01/01/2009 00:00    1124    1591     594    1003    1164    2464     758   \n",
       "1  01/01/2009 01:00    1092    1567     574     954    1122    2337     727   \n",
       "2  01/01/2009 02:00    1060    1529     547     913    1084    2218     701   \n",
       "3  01/01/2009 03:00    1046    1508     530     892    1064    2137     685   \n",
       "4  01/01/2009 04:00    1042    1508     522     890    1062    2109     684   \n",
       "\n",
       "   Millwd  N.Y.C.  North  West  NYISO  \n",
       "0     347    5616    796  1589  17046  \n",
       "1     327    5474    797  1535  16506  \n",
       "2     309    5279    799  1482  15921  \n",
       "3     306    5107    799  1455  15529  \n",
       "4     304    5009    802  1451  15383  "
      ]
     },
     "execution_count": 20,
     "metadata": {},
     "output_type": "execute_result"
    }
   ],
   "source": [
    "# would be cool to build in actuals - forecast as an outage prediction factor\n",
    "forecast_load_df.head()"
   ]
  },
  {
   "cell_type": "code",
   "execution_count": 21,
   "id": "hispanic-trinidad",
   "metadata": {},
   "outputs": [
    {
     "data": {
      "text/html": [
       "<div>\n",
       "<style scoped>\n",
       "    .dataframe tbody tr th:only-of-type {\n",
       "        vertical-align: middle;\n",
       "    }\n",
       "\n",
       "    .dataframe tbody tr th {\n",
       "        vertical-align: top;\n",
       "    }\n",
       "\n",
       "    .dataframe thead th {\n",
       "        text-align: right;\n",
       "    }\n",
       "</style>\n",
       "<table border=\"1\" class=\"dataframe\">\n",
       "  <thead>\n",
       "    <tr style=\"text-align: right;\">\n",
       "      <th></th>\n",
       "      <th>Timestamp</th>\n",
       "      <th>PTID</th>\n",
       "      <th>Equipment Name</th>\n",
       "      <th>Outage Date/Time</th>\n",
       "      <th>Outage Date/Time</th>\n",
       "      <th>Outage Date/Time</th>\n",
       "    </tr>\n",
       "  </thead>\n",
       "  <tbody>\n",
       "    <tr>\n",
       "      <th>0</th>\n",
       "      <td>01/01/2009 00:02:17</td>\n",
       "      <td>13173</td>\n",
       "      <td>FARRAGUT345KV_11W______________CB</td>\n",
       "      <td>12/28/2008 03:30:00</td>\n",
       "      <td>NaN</td>\n",
       "      <td>NaN</td>\n",
       "    </tr>\n",
       "    <tr>\n",
       "      <th>1</th>\n",
       "      <td>01/01/2009 00:02:17</td>\n",
       "      <td>13269</td>\n",
       "      <td>RAMAPO  345KV_35-4500-5________CB</td>\n",
       "      <td>02/01/2005 00:00:00</td>\n",
       "      <td>NaN</td>\n",
       "      <td>NaN</td>\n",
       "    </tr>\n",
       "    <tr>\n",
       "      <th>2</th>\n",
       "      <td>01/01/2009 00:02:17</td>\n",
       "      <td>13388</td>\n",
       "      <td>N.SCTLND345KV_R21______________CB</td>\n",
       "      <td>08/08/2008 21:21:00</td>\n",
       "      <td>NaN</td>\n",
       "      <td>NaN</td>\n",
       "    </tr>\n",
       "    <tr>\n",
       "      <th>3</th>\n",
       "      <td>01/01/2009 00:02:17</td>\n",
       "      <td>13565</td>\n",
       "      <td>RAMAPO  345KV_W72-2Y___________CB</td>\n",
       "      <td>12/01/2008 02:18:00</td>\n",
       "      <td>NaN</td>\n",
       "      <td>NaN</td>\n",
       "    </tr>\n",
       "    <tr>\n",
       "      <th>4</th>\n",
       "      <td>01/01/2009 00:02:17</td>\n",
       "      <td>13661</td>\n",
       "      <td>PLATSBRG115KV_211B_____________CB</td>\n",
       "      <td>02/01/2005 00:00:00</td>\n",
       "      <td>NaN</td>\n",
       "      <td>NaN</td>\n",
       "    </tr>\n",
       "  </tbody>\n",
       "</table>\n",
       "</div>"
      ],
      "text/plain": [
       "             Timestamp   PTID                     Equipment Name  \\\n",
       "0  01/01/2009 00:02:17  13173  FARRAGUT345KV_11W______________CB   \n",
       "1  01/01/2009 00:02:17  13269  RAMAPO  345KV_35-4500-5________CB   \n",
       "2  01/01/2009 00:02:17  13388  N.SCTLND345KV_R21______________CB   \n",
       "3  01/01/2009 00:02:17  13565  RAMAPO  345KV_W72-2Y___________CB   \n",
       "4  01/01/2009 00:02:17  13661  PLATSBRG115KV_211B_____________CB   \n",
       "\n",
       "     Outage Date/Time   Outage Date/Time Outage Date/Time  \n",
       "0  12/28/2008 03:30:00               NaN              NaN  \n",
       "1  02/01/2005 00:00:00               NaN              NaN  \n",
       "2  08/08/2008 21:21:00               NaN              NaN  \n",
       "3  12/01/2008 02:18:00               NaN              NaN  \n",
       "4  02/01/2005 00:00:00               NaN              NaN  "
      ]
     },
     "execution_count": 21,
     "metadata": {},
     "output_type": "execute_result"
    }
   ],
   "source": [
    "real_time_outages_df.head()"
   ]
  },
  {
   "cell_type": "code",
   "execution_count": 22,
   "id": "aggregate-investment",
   "metadata": {},
   "outputs": [
    {
     "data": {
      "text/html": [
       "<div>\n",
       "<style scoped>\n",
       "    .dataframe tbody tr th:only-of-type {\n",
       "        vertical-align: middle;\n",
       "    }\n",
       "\n",
       "    .dataframe tbody tr th {\n",
       "        vertical-align: top;\n",
       "    }\n",
       "\n",
       "    .dataframe thead th {\n",
       "        text-align: right;\n",
       "    }\n",
       "</style>\n",
       "<table border=\"1\" class=\"dataframe\">\n",
       "  <thead>\n",
       "    <tr style=\"text-align: right;\">\n",
       "      <th></th>\n",
       "      <th>Timestamp</th>\n",
       "      <th>PTID</th>\n",
       "      <th>Equipment Name</th>\n",
       "      <th>Scheduled Out Date/Time</th>\n",
       "      <th>Scheduled In Date/Time</th>\n",
       "    </tr>\n",
       "  </thead>\n",
       "  <tbody>\n",
       "    <tr>\n",
       "      <th>0</th>\n",
       "      <td>01/01/2009 00:00:00</td>\n",
       "      <td>13173</td>\n",
       "      <td>FARRAGUT_345KV_11W</td>\n",
       "      <td>12/28/2008 03:30:47</td>\n",
       "      <td>01/25/2009 23:59:00</td>\n",
       "    </tr>\n",
       "    <tr>\n",
       "      <th>1</th>\n",
       "      <td>01/01/2009 00:00:00</td>\n",
       "      <td>13269</td>\n",
       "      <td>RAMAPO___345KV_35-4500-5</td>\n",
       "      <td>02/01/2005 00:00:00</td>\n",
       "      <td>02/01/2015 00:00:00</td>\n",
       "    </tr>\n",
       "    <tr>\n",
       "      <th>2</th>\n",
       "      <td>01/01/2009 00:00:00</td>\n",
       "      <td>13661</td>\n",
       "      <td>PLATSBRG_115KV_211B</td>\n",
       "      <td>02/01/2005 00:00:00</td>\n",
       "      <td>02/01/2015 00:00:00</td>\n",
       "    </tr>\n",
       "    <tr>\n",
       "      <th>3</th>\n",
       "      <td>01/01/2009 00:00:00</td>\n",
       "      <td>14220</td>\n",
       "      <td>GOWANUSN_138KV_GT 2-4</td>\n",
       "      <td>02/01/2005 00:00:00</td>\n",
       "      <td>02/01/2015 00:00:00</td>\n",
       "    </tr>\n",
       "    <tr>\n",
       "      <th>4</th>\n",
       "      <td>01/01/2009 00:00:00</td>\n",
       "      <td>14255</td>\n",
       "      <td>SPRNBRK__345KV_CS-49_BYPASS</td>\n",
       "      <td>02/01/2005 00:00:00</td>\n",
       "      <td>02/01/2015 00:00:00</td>\n",
       "    </tr>\n",
       "  </tbody>\n",
       "</table>\n",
       "</div>"
      ],
      "text/plain": [
       "             Timestamp   PTID               Equipment Name  \\\n",
       "0  01/01/2009 00:00:00  13173           FARRAGUT_345KV_11W   \n",
       "1  01/01/2009 00:00:00  13269     RAMAPO___345KV_35-4500-5   \n",
       "2  01/01/2009 00:00:00  13661          PLATSBRG_115KV_211B   \n",
       "3  01/01/2009 00:00:00  14220        GOWANUSN_138KV_GT 2-4   \n",
       "4  01/01/2009 00:00:00  14255  SPRNBRK__345KV_CS-49_BYPASS   \n",
       "\n",
       "  Scheduled Out Date/Time Scheduled In Date/Time  \n",
       "0     12/28/2008 03:30:47    01/25/2009 23:59:00  \n",
       "1     02/01/2005 00:00:00    02/01/2015 00:00:00  \n",
       "2     02/01/2005 00:00:00    02/01/2015 00:00:00  \n",
       "3     02/01/2005 00:00:00    02/01/2015 00:00:00  \n",
       "4     02/01/2005 00:00:00    02/01/2015 00:00:00  "
      ]
     },
     "execution_count": 22,
     "metadata": {},
     "output_type": "execute_result"
    }
   ],
   "source": [
    "scheduled_outages_df.head()"
   ]
  },
  {
   "cell_type": "code",
   "execution_count": 23,
   "id": "curious-prophet",
   "metadata": {},
   "outputs": [],
   "source": [
    "scheduled_outages_df = scheduled_outages_df.drop_duplicates(\n",
    "    ['PTID','Equipment Name','Scheduled Out Date/Time'])"
   ]
  },
  {
   "cell_type": "code",
   "execution_count": 24,
   "id": "entire-reduction",
   "metadata": {},
   "outputs": [],
   "source": [
    "real_time_outages_df['Outage Date/Time'] = real_time_outages_df['Outage Date/Time'].fillna(real_time_outages_df[' Outage Date/Time '])\n",
    "real_time_outages_df['Outage Date/Time'] = real_time_outages_df['Outage Date/Time'].fillna(real_time_outages_df[' Outage Date/Time'])\n",
    "real_time_outages_df = real_time_outages_df.drop_duplicates(['PTID', 'Equipment Name', 'Outage Date/Time'])\n"
   ]
  },
  {
   "cell_type": "code",
   "execution_count": 25,
   "id": "equipped-organ",
   "metadata": {},
   "outputs": [],
   "source": [
    "real_time_outages_df['Outage Date/Time'] = pd.to_datetime(real_time_outages_df['Outage Date/Time'])\n",
    "scheduled_outages_df['Scheduled Out Date/Time'] = pd.to_datetime(scheduled_outages_df['Scheduled Out Date/Time'])"
   ]
  },
  {
   "cell_type": "code",
   "execution_count": 26,
   "id": "subject-scottish",
   "metadata": {},
   "outputs": [],
   "source": [
    "real_time_outages_df['first_word'] = [\n",
    "    re.split(r'[_123456789 ]', real_time_outages_df['Equipment Name'].loc[x])[0] \n",
    "    for x in real_time_outages_df.index]\n",
    "\n",
    "scheduled_outages_df['first_word'] = [\n",
    "    re.split(r'[_123456789 ]', scheduled_outages_df['Equipment Name'].loc[x])[0] \n",
    "    for x in scheduled_outages_df.index]"
   ]
  },
  {
   "cell_type": "code",
   "execution_count": 27,
   "id": "chemical-procurement",
   "metadata": {},
   "outputs": [],
   "source": [
    "scheduled_outages_df['Scheduled Out Date'] = scheduled_outages_df['Scheduled Out Date/Time'].dt.date\n",
    "real_time_outages_df['Out Date'] = real_time_outages_df['Outage Date/Time'].dt.date"
   ]
  },
  {
   "cell_type": "code",
   "execution_count": 28,
   "id": "scenic-majority",
   "metadata": {},
   "outputs": [],
   "source": [
    "merged_outage_df = real_time_outages_df.merge(scheduled_outages_df[['Scheduled Out Date', 'first_word']], how='left', left_on=['first_word', 'Out Date'],\n",
    "                                              right_on=['first_word', 'Scheduled Out Date'])"
   ]
  },
  {
   "cell_type": "code",
   "execution_count": 29,
   "id": "absolute-immune",
   "metadata": {},
   "outputs": [],
   "source": [
    "merged_outage_df = merged_outage_df.drop_duplicates()\n",
    "unscheduled_outage_df = merged_outage_df[merged_outage_df['Scheduled Out Date'].isnull()]"
   ]
  },
  {
   "cell_type": "code",
   "execution_count": 30,
   "id": "foreign-feeding",
   "metadata": {},
   "outputs": [],
   "source": [
    "outage_counts = pd.Series(unscheduled_outage_df.groupby('Out Date')['PTID'].count(), \n",
    "                          index=real_time_load_df['Time Stamp'].dt.date.unique())\n",
    "outage_counts = outage_counts.fillna(0)"
   ]
  },
  {
   "cell_type": "markdown",
   "id": "focal-trace",
   "metadata": {},
   "source": [
    "### Unscheduled Outage EDA\n",
    "\n",
    "* The # of unscheduled outages has generally gone down since 2009 but has been increasing slowly since 2017.\n",
    "* Outages occur most frequently in the morning, between 6-10am and least frequently during peak hours of 5-8pm\n",
    "* Outages occur most frequently in the Spring (March through May)"
   ]
  },
  {
   "cell_type": "code",
   "execution_count": 31,
   "id": "meaningful-trademark",
   "metadata": {},
   "outputs": [
    {
     "data": {
      "image/png": "[encoded data removed]",
      "text/plain": [
       "<Figure size 1152x576 with 1 Axes>"
      ]
     },
     "metadata": {},
     "output_type": "display_data"
    }
   ],
   "source": [
    "outage_counts.rolling(14).mean().plot(figsize=[16,8])\n",
    "outage_counts.rolling(90).mean().plot(figsize=[16,8])\n",
    "plt.title('Avg Number of Unscheduled NY Outages Per Day')\n",
    "plt.show()"
   ]
  },
  {
   "cell_type": "code",
   "execution_count": 32,
   "id": "ethical-chaos",
   "metadata": {},
   "outputs": [],
   "source": [
    "unscheduled_outage_df['hour'] = unscheduled_outage_df['Outage Date/Time'].dt.hour\n",
    "unscheduled_outage_df['month'] = unscheduled_outage_df['Outage Date/Time'].dt.month"
   ]
  },
  {
   "cell_type": "code",
   "execution_count": 33,
   "id": "cutting-format",
   "metadata": {},
   "outputs": [
    {
     "data": {
      "image/png": "[encoded data removed]",
      "text/plain": [
       "<Figure size 1152x576 with 1 Axes>"
      ]
     },
     "metadata": {},
     "output_type": "display_data"
    }
   ],
   "source": [
    "unscheduled_outage_df['hour'].value_counts().plot.bar(figsize=[16,8])\n",
    "plt.show()"
   ]
  },
  {
   "cell_type": "code",
   "execution_count": 34,
   "id": "nervous-amsterdam",
   "metadata": {},
   "outputs": [
    {
     "data": {
      "image/png": "[encoded data removed]",
      "text/plain": [
       "<Figure size 1152x576 with 1 Axes>"
      ]
     },
     "metadata": {},
     "output_type": "display_data"
    }
   ],
   "source": [
    "unscheduled_outage_df['month'].value_counts().plot.bar(figsize=[16,8])\n",
    "plt.show()"
   ]
  },
  {
   "cell_type": "code",
   "execution_count": 35,
   "id": "removed-interaction",
   "metadata": {},
   "outputs": [],
   "source": [
    "# because we don't have intra-New York granularity of the outage data ( :( ), will merge the 11 districts back into one dataframe\n",
    "# then merge the outage info in"
   ]
  },
  {
   "cell_type": "code",
   "execution_count": 37,
   "id": "mobile-letter",
   "metadata": {},
   "outputs": [],
   "source": [
    "for load_df in load_dfs:\n",
    "    load_df.columns = ['Time Stamp', 'Time Zone', 'Name', 'PTID'] + \\\n",
    "                      [load_df['Name'].iloc[0] + '_' + x for x in load_df.columns[-15:]]\n",
    "    load_df = load_df.drop(['Time Zone', 'Name', 'PTID'], axis=1)\n",
    "    \n",
    "full_load_df = load_dfs[0]\n",
    "\n",
    "for load_df in load_dfs[1:]:\n",
    "    full_load_df = full_load_df.merge(load_df, how='left', on='Time Stamp')"
   ]
  },
  {
   "cell_type": "code",
   "execution_count": 38,
   "id": "coral-factor",
   "metadata": {},
   "outputs": [],
   "source": [
    "full_load_df['month'] = full_load_df['Time Stamp'].dt.month\n",
    "full_load_df['week'] = full_load_df['Time Stamp'].dt.week\n",
    "full_load_df['hour'] = full_load_df['Time Stamp'].dt.hour\n",
    "\n",
    "full_load_df['month'] = full_load_df['month'].astype(str)\n",
    "full_load_df['week'] = full_load_df['week'].astype(str)\n",
    "full_load_df['hour'] = full_load_df['hour'].astype(str)\n",
    "\n",
    "full_load_df = pd.concat([full_load_df, pd.get_dummies(full_load_df[['month', 'week', 'hour']])], axis=1)"
   ]
  },
  {
   "cell_type": "code",
   "execution_count": 39,
   "id": "traditional-assembly",
   "metadata": {},
   "outputs": [],
   "source": [
    "# rounding timestamps to every 5th minute to be able to merge // thanks stackoverflow \n",
    "# https://stackoverflow.com/questions/24479577/pandas-timestamp-index-rounding-to-the-nearest-5th-minute\n",
    "\n",
    "ns5min = 5 * 60 * 1000000000 # 5 minutes in nanoseconds \n",
    "unscheduled_outage_df['Outage Date/Time Rounded'] = pd.to_datetime(((unscheduled_outage_df['Outage Date/Time'].astype(np.int64) // ns5min + 1 ) * ns5min))"
   ]
  },
  {
   "cell_type": "code",
   "execution_count": 40,
   "id": "eight-tomorrow",
   "metadata": {},
   "outputs": [],
   "source": [
    "outages_per_5min = pd.DataFrame(unscheduled_outage_df.groupby('Outage Date/Time Rounded').count()['Timestamp']).reset_index()\n",
    "outages_per_5min.columns = ['Outage Date/Time Rounded', 'outages']"
   ]
  },
  {
   "cell_type": "code",
   "execution_count": 41,
   "id": "polyphonic-appreciation",
   "metadata": {},
   "outputs": [],
   "source": [
    "full_load_df = full_load_df.merge(outages_per_5min[['Outage Date/Time Rounded', 'outages']], how='left', left_on='Time Stamp', right_on='Outage Date/Time Rounded')"
   ]
  },
  {
   "cell_type": "code",
   "execution_count": 42,
   "id": "focal-light",
   "metadata": {},
   "outputs": [],
   "source": [
    "full_load_df['outages'] = full_load_df['outages'].fillna(0)"
   ]
  },
  {
   "cell_type": "markdown",
   "id": "preliminary-sally",
   "metadata": {},
   "source": [
    "### because of the imbalance in the dataset, I'll make this a classification problem instead of a regression problem: predicting whether a blackout occurs during this 5min period as opposed to the # of blackouts that occur"
   ]
  },
  {
   "cell_type": "code",
   "execution_count": 43,
   "id": "bearing-testament",
   "metadata": {},
   "outputs": [
    {
     "data": {
      "text/plain": [
       "0.0     1568488\n",
       "1.0       45296\n",
       "2.0        7540\n",
       "3.0         929\n",
       "4.0         334\n",
       "5.0          80\n",
       "6.0          48\n",
       "7.0          16\n",
       "8.0           5\n",
       "9.0           3\n",
       "12.0          2\n",
       "26.0          1\n",
       "40.0          1\n",
       "32.0          1\n",
       "28.0          1\n",
       "33.0          1\n",
       "36.0          1\n",
       "35.0          1\n",
       "Name: outages, dtype: int64"
      ]
     },
     "execution_count": 43,
     "metadata": {},
     "output_type": "execute_result"
    }
   ],
   "source": [
    "full_load_df['outages'].value_counts()"
   ]
  },
  {
   "cell_type": "code",
   "execution_count": 44,
   "id": "light-report",
   "metadata": {},
   "outputs": [],
   "source": [
    "full_load_df['has_outage'] = full_load_df['outages'].clip(upper=1)"
   ]
  },
  {
   "cell_type": "code",
   "execution_count": 45,
   "id": "induced-second",
   "metadata": {},
   "outputs": [],
   "source": [
    "regr = LogisticRegressionCV(class_weight='balanced')"
   ]
  },
  {
   "cell_type": "code",
   "execution_count": 46,
   "id": "disabled-halifax",
   "metadata": {},
   "outputs": [],
   "source": [
    "delete_columns = ['Time Zone_x', 'Name_x', 'PTID_x', 'Outage Date/Time Rounded', \n",
    "                  'Time Zone_y', 'Name_y', 'PTID_y', 'Time Zone', 'Name', 'PTID']"
   ]
  },
  {
   "cell_type": "code",
   "execution_count": 47,
   "id": "important-watershed",
   "metadata": {},
   "outputs": [],
   "source": [
    "full_load_df = full_load_df.drop(delete_columns, axis=1)\n",
    "full_load_df = full_load_df.loc[:,~full_load_df.columns.duplicated()]\n",
    "full_load_df = full_load_df.dropna(how='any')"
   ]
  },
  {
   "cell_type": "code",
   "execution_count": 48,
   "id": "involved-little",
   "metadata": {},
   "outputs": [],
   "source": [
    "non_training_columns = ['Time Stamp', 'outages', 'has_outage']\n",
    "\n",
    "y = full_load_df['has_outage']\n",
    "X = full_load_df.drop(non_training_columns, axis=1)\n",
    "\n",
    "X = X.reset_index()\n",
    "X = X.drop(['index'], axis=1)\n",
    "\n",
    "y = y.reset_index()\n",
    "y = y.drop(['index'], axis=1)\n",
    "y = y['has_outage']"
   ]
  },
  {
   "cell_type": "code",
   "execution_count": 49,
   "id": "fancy-tooth",
   "metadata": {},
   "outputs": [],
   "source": [
    "outage_corr = full_load_df.corr()['outages']"
   ]
  },
  {
   "cell_type": "code",
   "execution_count": 50,
   "id": "sharp-privacy",
   "metadata": {},
   "outputs": [],
   "source": [
    "starter_features = outage_corr.sort_values().index[::10]"
   ]
  },
  {
   "cell_type": "markdown",
   "id": "after-donor",
   "metadata": {},
   "source": [
    "### first pass model: starter features (every 10th when sorting by correlation with # of outages)"
   ]
  },
  {
   "cell_type": "code",
   "execution_count": 51,
   "id": "attractive-louisiana",
   "metadata": {},
   "outputs": [],
   "source": [
    "X = X[starter_features]"
   ]
  },
  {
   "cell_type": "code",
   "execution_count": 52,
   "id": "ruled-declaration",
   "metadata": {},
   "outputs": [
    {
     "data": {
      "text/plain": [
       "LogisticRegressionCV(class_weight='balanced')"
      ]
     },
     "execution_count": 52,
     "metadata": {},
     "output_type": "execute_result"
    }
   ],
   "source": [
    "regr.fit(X, y)"
   ]
  },
  {
   "cell_type": "code",
   "execution_count": 53,
   "id": "innovative-blame",
   "metadata": {},
   "outputs": [],
   "source": [
    "predictions = regr.predict_proba(X)\n",
    "outage_probabilities = [predictions[x][1] for x in range(len(predictions))]"
   ]
  },
  {
   "cell_type": "code",
   "execution_count": 54,
   "id": "demographic-colombia",
   "metadata": {},
   "outputs": [
    {
     "data": {
      "text/plain": [
       "0.6513810687265772"
      ]
     },
     "execution_count": 54,
     "metadata": {},
     "output_type": "execute_result"
    }
   ],
   "source": [
    "metrics.roc_auc_score(y, outage_probabilities)"
   ]
  },
  {
   "cell_type": "markdown",
   "id": "french-marker",
   "metadata": {},
   "source": [
    "### second pass model: iterating through adding hour of day and month of day features, to no improvement"
   ]
  },
  {
   "cell_type": "code",
   "execution_count": 55,
   "id": "higher-particular",
   "metadata": {},
   "outputs": [],
   "source": [
    "y = full_load_df['has_outage']\n",
    "X = full_load_df[list(starter_features) + [x for x in full_load_df if ('hour_' in x) and len(x) < 20]] # month and hour didn't do anything"
   ]
  },
  {
   "cell_type": "code",
   "execution_count": 56,
   "id": "elder-detroit",
   "metadata": {},
   "outputs": [
    {
     "data": {
      "text/plain": [
       "LogisticRegressionCV(class_weight='balanced')"
      ]
     },
     "execution_count": 56,
     "metadata": {},
     "output_type": "execute_result"
    }
   ],
   "source": [
    "regr.fit(X, y)"
   ]
  },
  {
   "cell_type": "code",
   "execution_count": 57,
   "id": "magnetic-understanding",
   "metadata": {},
   "outputs": [
    {
     "data": {
      "text/plain": [
       "0.6516709089816694"
      ]
     },
     "execution_count": 57,
     "metadata": {},
     "output_type": "execute_result"
    }
   ],
   "source": [
    "predictions = regr.predict_proba(X)\n",
    "outage_probabilities = [predictions[x][1] for x in range(len(predictions))]\n",
    "metrics.roc_auc_score(y, outage_probabilities)"
   ]
  },
  {
   "cell_type": "code",
   "execution_count": 58,
   "id": "peaceful-edward",
   "metadata": {},
   "outputs": [
    {
     "data": {
      "image/png": "[encoded data removed]",
      "text/plain": [
       "<Figure size 432x288 with 1 Axes>"
      ]
     },
     "metadata": {},
     "output_type": "display_data"
    }
   ],
   "source": [
    "metrics.plot_roc_curve(regr, X, y)\n",
    "plt.show()"
   ]
  },
  {
   "cell_type": "code",
   "execution_count": 59,
   "id": "collaborative-explorer",
   "metadata": {},
   "outputs": [
    {
     "data": {
      "text/plain": [
       "CAPITL_three_hour_rolling_min    -0.058539\n",
       "CAPITL_hour_rolling_min          -0.049126\n",
       "CAPITL_six_hour_rolling_avg      -0.048422\n",
       "DUNWOD_three_hour_rolling_min    -0.047524\n",
       "CAPITL_twelve_hour_rolling_avg   -0.045743\n",
       "                                    ...   \n",
       "CENTRL_three_hour_rolling_std     0.066634\n",
       "MHK VL_three_hour_rolling_std     0.066787\n",
       "N.Y.C._three_hour_rolling_std     0.074559\n",
       "has_outage                        0.877652\n",
       "outages                           1.000000\n",
       "Name: outages, Length: 256, dtype: float64"
      ]
     },
     "execution_count": 59,
     "metadata": {},
     "output_type": "execute_result"
    }
   ],
   "source": [
    "outage_corr.sort_values()"
   ]
  },
  {
   "cell_type": "markdown",
   "id": "civil-development",
   "metadata": {},
   "source": [
    "### third pass model: trying out random forest classifier"
   ]
  },
  {
   "cell_type": "code",
   "execution_count": 61,
   "id": "aggressive-google",
   "metadata": {},
   "outputs": [],
   "source": [
    "y = full_load_df['has_outage']\n",
    "X = full_load_df.drop(non_training_columns, axis=1)\n",
    "\n",
    "X = X.reset_index()\n",
    "X = X.drop(['index'], axis=1)\n",
    "\n",
    "y = y.reset_index()\n",
    "y = y.drop(['index'], axis=1)\n",
    "y = y['has_outage']"
   ]
  },
  {
   "cell_type": "code",
   "execution_count": 62,
   "id": "blond-building",
   "metadata": {},
   "outputs": [
    {
     "name": "stdout",
     "output_type": "stream",
     "text": [
      "1294802\n",
      "1294802\n",
      "1294802\n",
      "1294803\n",
      "1294803\n"
     ]
    }
   ],
   "source": [
    "clf = RandomForestClassifier(max_depth=4, class_weight='balanced')\n",
    "rf_predictions = pd.DataFrame(columns=[0, 1], index=X.index)\n",
    "\n",
    "for train_index , test_index in KFold(5, random_state=None).split(X):\n",
    "    print(len(train_index))\n",
    "    X_train , X_test = X.loc[train_index], X.loc[test_index]\n",
    "    y_train , y_test = y.loc[train_index] , y.loc[test_index]\n",
    "     \n",
    "    clf.fit(X_train,y_train)\n",
    "    rf_predictions.loc[test_index] = clf.predict_proba(X_test)"
   ]
  },
  {
   "cell_type": "code",
   "execution_count": 63,
   "id": "religious-extreme",
   "metadata": {},
   "outputs": [
    {
     "data": {
      "text/plain": [
       "0.5178415982702151"
      ]
     },
     "execution_count": 63,
     "metadata": {},
     "output_type": "execute_result"
    }
   ],
   "source": [
    "metrics.roc_auc_score(y.astype(int), rf_predictions[1])"
   ]
  },
  {
   "cell_type": "markdown",
   "id": "apart-wrapping",
   "metadata": {},
   "source": [
    "### non-AUC results breakdown"
   ]
  },
  {
   "cell_type": "code",
   "execution_count": 65,
   "id": "certain-neutral",
   "metadata": {},
   "outputs": [],
   "source": [
    "full_load_df['outage_probability'] = pd.Series(outage_probabilities, index=full_load_df.index)"
   ]
  },
  {
   "cell_type": "code",
   "execution_count": 66,
   "id": "disciplinary-gallery",
   "metadata": {},
   "outputs": [],
   "source": [
    "full_load_df['least_likely_25pct'] = full_load_df['outage_probability'] < full_load_df['outage_probability'].quantile(.25)\n",
    "full_load_df['most_likely_10pct'] = full_load_df['outage_probability'] > full_load_df['outage_probability'].quantile(.9)\n",
    "full_load_df['most_likely_5pct'] = full_load_df['outage_probability'] > full_load_df['outage_probability'].quantile(.95)"
   ]
  },
  {
   "cell_type": "code",
   "execution_count": 67,
   "id": "inside-entrepreneur",
   "metadata": {},
   "outputs": [],
   "source": [
    "full_load_df['most_likely_1pct'] = full_load_df['outage_probability'] > full_load_df['outage_probability'].quantile(.99)"
   ]
  },
  {
   "cell_type": "code",
   "execution_count": 68,
   "id": "weighted-anatomy",
   "metadata": {},
   "outputs": [
    {
     "data": {
      "text/plain": [
       "most_likely_5pct\n",
       "False    0.036133\n",
       "True     0.122297\n",
       "Name: outages, dtype: float64"
      ]
     },
     "execution_count": 68,
     "metadata": {},
     "output_type": "execute_result"
    }
   ],
   "source": [
    "full_load_df.groupby('most_likely_5pct')['outages'].mean()"
   ]
  },
  {
   "cell_type": "code",
   "execution_count": 69,
   "id": "prompt-spray",
   "metadata": {},
   "outputs": [
    {
     "data": {
      "text/plain": [
       "most_likely_10pct\n",
       "False    0.033631\n",
       "True     0.101736\n",
       "Name: outages, dtype: float64"
      ]
     },
     "execution_count": 69,
     "metadata": {},
     "output_type": "execute_result"
    }
   ],
   "source": [
    "full_load_df.groupby('most_likely_10pct')['outages'].mean()"
   ]
  },
  {
   "cell_type": "code",
   "execution_count": 70,
   "id": "loved-consequence",
   "metadata": {},
   "outputs": [
    {
     "data": {
      "text/plain": [
       "least_likely_25pct\n",
       "False    0.047176\n",
       "True     0.020238\n",
       "Name: outages, dtype: float64"
      ]
     },
     "execution_count": 70,
     "metadata": {},
     "output_type": "execute_result"
    }
   ],
   "source": [
    "full_load_df.groupby('least_likely_25pct')['outages'].mean()"
   ]
  },
  {
   "cell_type": "code",
   "execution_count": 71,
   "id": "unlimited-unemployment",
   "metadata": {},
   "outputs": [
    {
     "data": {
      "text/plain": [
       "0.04044169210684194"
      ]
     },
     "execution_count": 71,
     "metadata": {},
     "output_type": "execute_result"
    }
   ],
   "source": [
    "full_load_df['outages'].mean()"
   ]
  },
  {
   "cell_type": "code",
   "execution_count": null,
   "id": "pressed-newsletter",
   "metadata": {},
   "outputs": [],
   "source": []
  }
 ],
 "metadata": {
  "kernelspec": {
   "display_name": "Python 3",
   "language": "python",
   "name": "python3"
  },
  "language_info": {
   "codemirror_mode": {
    "name": "ipython",
    "version": 3
   },
   "file_extension": ".py",
   "mimetype": "text/x-python",
   "name": "python",
   "nbconvert_exporter": "python",
   "pygments_lexer": "ipython3",
   "version": "3.9.5"
  }
 },
 "nbformat": 4,
 "nbformat_minor": 5
}
